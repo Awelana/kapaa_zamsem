{
 "cells": [
  {
   "cell_type": "markdown",
   "metadata": {},
   "source": [
    "# GETTING STARTED.\n",
    "Today is the first meeting and we will be talking about kapaa.....\n",
    "\n"
   ]
  },
  {
   "cell_type": "markdown",
   "metadata": {},
   "source": [
    "# GITHUB COMMITING CHANGES\n",
    "1. git add --all # adds all changes made\n",
    "2. git commit -m \"put message here\" # first lesson, print statements\n",
    "3. git push"
   ]
  },
  {
   "cell_type": "code",
   "execution_count": null,
   "metadata": {},
   "outputs": [],
   "source": [
    "# RESOURCES\n",
    "1. https://www.w3schools.com/python/default.asp"
   ]
  },
  {
   "cell_type": "code",
   "execution_count": 20,
   "metadata": {},
   "outputs": [
    {
     "name": "stdout",
     "output_type": "stream",
     "text": [
      "Put text in quotation marks\n",
      "4534\n",
      "<class 'int'>\n",
      "4534 The type is  <class 'int'>\n",
      "--------------- <class 'str'>\n",
      "5.2\n",
      "<class 'float'>\n",
      "0.3333333333333333\n",
      "<class 'float'>\n",
      "2/6\n",
      "<class 'str'>\n"
     ]
    }
   ],
   "source": [
    "# printing text # String\n",
    "print(\"Put text in quotation marks\")\n",
    "print(\"---------------\", type(\"how are you\"))\n",
    "\n",
    "# printing numbers [integers(int), float(decimals)]\n",
    "print(4534)\n",
    "print(type(4534))\n",
    "print(4534, \"The type is \", type(4534))\n",
    "\n",
    "print(5.2)\n",
    "print(type(5.2))\n",
    "p\n",
    "print(2/6)\n",
    "print(type(2/6))\n",
    "\n",
    "# write a print statement to output \"2/6\"\n",
    "print(\"2/6\")\n",
    "print(type(\"2/6\"))\n",
    "\n",
    "\n"
   ]
  },
  {
   "cell_type": "code",
   "execution_count": null,
   "metadata": {},
   "outputs": [],
   "source": []
  }
 ],
 "metadata": {
  "kernelspec": {
   "display_name": "kapaa",
   "language": "python",
   "name": "python3"
  },
  "language_info": {
   "codemirror_mode": {
    "name": "ipython",
    "version": 3
   },
   "file_extension": ".py",
   "mimetype": "text/x-python",
   "name": "python",
   "nbconvert_exporter": "python",
   "pygments_lexer": "ipython3",
   "version": "3.10.13"
  }
 },
 "nbformat": 4,
 "nbformat_minor": 2
}
