{
 "cells": [
  {
   "cell_type": "markdown",
   "metadata": {},
   "source": [
    "# GETTING STARTED.\n",
    "Today is the first meeting and we will be talking about kapaa.....\n",
    "\n"
   ]
  },
  {
   "cell_type": "markdown",
   "metadata": {},
   "source": [
    "# GITHUB COMMITING CHANGES\n",
    "1. git add --all # adds all changes made\n",
    "2. git commit -m \"put message here\" # first lesson, print statements\n",
    "3. git push"
   ]
  },
  {
   "cell_type": "code",
   "execution_count": 4,
   "metadata": {},
   "outputs": [
    {
     "ename": "SyntaxError",
     "evalue": "invalid syntax (1490177323.py, line 2)",
     "output_type": "error",
     "traceback": [
      "\u001b[0;36m  Cell \u001b[0;32mIn[4], line 2\u001b[0;36m\u001b[0m\n\u001b[0;31m    1. https://www.w3schools.com/python/default.asp\u001b[0m\n\u001b[0m       ^\u001b[0m\n\u001b[0;31mSyntaxError\u001b[0m\u001b[0;31m:\u001b[0m invalid syntax\n"
     ]
    }
   ],
   "source": [
    "# RESOURCES\n",
    "1. https://www.w3schools.com/python/default.asp"
   ]
  },
  {
   "cell_type": "code",
   "execution_count": 1,
   "metadata": {},
   "outputs": [
    {
     "name": "stdout",
     "output_type": "stream",
     "text": [
      "Put text in quotation marks\n",
      "--------------- <class 'str'>\n",
      "4534\n",
      "<class 'int'>\n",
      "4534 The type is  <class 'int'>\n",
      "5.2\n",
      "5.2 good to me  <class 'float'>\n",
      "<class 'float'>\n",
      "4.6\n",
      "0.3333333333333333\n",
      "0.3333333333333333 its getting better  <class 'float'>\n",
      "<class 'float'>\n",
      "2/6\n",
      "<class 'str'>\n"
     ]
    }
   ],
   "source": [
    "# printing text # String\n",
    "print(\"Put text in quotation marks\")\n",
    "print(\"---------------\", type(\"how are you\"))\n",
    "\n",
    "# printing numbers [integers(int), float(decimals)]\n",
    "print(4534)\n",
    "print(type(4534))\n",
    "print(4534, \"The type is \", type(4534))\n",
    "\n",
    "print(5.2)\n",
    "print(5.2, \"good to me \", type(5.2))\n",
    "\n",
    "print(type(5.2))\n",
    "print (4.6)\n",
    "print(2/6)\n",
    "print(2/6, \"its getting better \",type(2/6))\n",
    "\n",
    "print(type(2/6))\n",
    "\n",
    "# write a print statement to output \"2/6\"\n",
    "print(\"2/6\")\n",
    "print(type(\"2/6\"))\n",
    "\n"
   ]
  },
  {
   "cell_type": "markdown",
   "metadata": {},
   "source": []
  },
  {
   "cell_type": "markdown",
   "metadata": {},
   "source": [
    "# VARIABLES 16.03.2024"
   ]
  },
  {
   "cell_type": "code",
   "execution_count": 2,
   "metadata": {},
   "outputs": [
    {
     "name": "stdout",
     "output_type": "stream",
     "text": [
      "cost of bananas <class 'int'>\n",
      "The total cost of  4 bananas is 8000\n",
      "the total cost of  4 bananas is 8000 from netto\n"
     ]
    }
   ],
   "source": [
    "# bananas = 100\n",
    "# costOfOne = 1000\n",
    "# print(\"cost of bananas\", type(100))\n",
    "# print(\"The total cost of \", bananas, \"bananas is\", bananas*cost_of_one)\n",
    "shop= \"netto\"\n",
    "bananas, costOfOne = 4, 2000\n",
    "# 4 bananas, 2000, netto\n",
    "print(\"cost of bananas\", type(100))\n",
    "print(\"The total cost of \", bananas, \"bananas is\", bananas*costOfOne)\n",
    "print(\"the total cost of \", bananas, \"bananas is\", bananas*costOfOne, \"from\", shop) \n",
    "\n",
    "#The total cost of 100 bananas is 100000\n",
    "#print(banana, \"the type is \", type(banana))\n",
    "\n",
    "\n",
    "\n",
    "# VALID\n",
    "# costOfOne\n",
    "# cost_of_one\n",
    "# costofone\n",
    "#INVALID\n",
    "#9bananas\n",
    "#cost-of-one\n"
   ]
  },
  {
   "cell_type": "markdown",
   "metadata": {},
   "source": [
    "Homework 2."
   ]
  },
  {
   "cell_type": "code",
   "execution_count": 15,
   "metadata": {},
   "outputs": [
    {
     "name": "stdout",
     "output_type": "stream",
     "text": [
      "The total expenditure of 4 apples is 20\n",
      "The total expenditure of 1 chicken is 3\n",
      "The total expenditure of 4 crate of eggs is 28\n",
      "The total expenditure of  4 apples 1 chicken and  4 crete of eggs is 51\n"
     ]
    }
   ],
   "source": [
    "# You have a groccery list: apples, chicken, eggs\n",
    "# apples = 4, each cost = 5\n",
    "# chicken = 1, cost of chicken = 30\n",
    "# crate of eggs = 4, each cost = 7\n",
    "# write print statement to get the total expenditure.\n",
    "\n",
    "\n",
    "apples, CostOfOne = 4, 5\n",
    "chicken, costOfChicken =1, 3\n",
    "crate_of_eggs , cost_of_eggs = 4, 7\n",
    "print(\"The total expenditure of\",apples, \"apples is\", apples*CostOfOne)\n",
    "print(\"The total expenditure of\",chicken, \"chicken is\", chicken*costOfChicken)\n",
    "print(\"The total expenditure of\",crate_of_eggs, \"crate of eggs is\", crate_of_eggs*cost_of_eggs)\n",
    "\n",
    "total_cost_chicken = chicken*costOfChicken\n",
    "total_cost_eggs = crate_of_eggs*cost_of_eggs\n",
    "total_expenditure = apples*CostOfOne + total_cost_chicken + total_cost_eggs\n",
    "print(\"The total expenditure of \",apples, \"apples\", chicken,\"chicken and \", crate_of_eggs, \"crete of eggs is\", total_expenditure)\n",
    "\n"
   ]
  },
  {
   "cell_type": "markdown",
   "metadata": {},
   "source": [
    "# Session 3 23.03.2024 "
   ]
  },
  {
   "cell_type": "code",
   "execution_count": 29,
   "metadata": {},
   "outputs": [
    {
     "name": "stdout",
     "output_type": "stream",
     "text": [
      "(3+0j)\n"
     ]
    }
   ],
   "source": [
    "# DATATYPES [str, ints, floats, complex, list]\n",
    "#comp1 = 2j+3\n",
    "#comp2 = 4+5j\n",
    "comp1 = complex(3)\n",
    "comp2 = complex(4, 5)\n",
    "print(comp1)"
   ]
  },
  {
   "cell_type": "code",
   "execution_count": 1,
   "metadata": {},
   "outputs": [
    {
     "name": "stdout",
     "output_type": "stream",
     "text": [
      "First item in my list called items_to_buy is eggs\n",
      "the second item in my list called items_to_buy is apples\n",
      "The items from the first to third on my list are ['eggs', 'apples', 'chicken']\n",
      "The items from the first to third on my list are eggs apples orange\n",
      "the  third and forth  item in my list are ['chicken', 'orange']\n"
     ]
    }
   ],
   "source": [
    "\n",
    "\n",
    "e = 5\n",
    "b = 'asfda'\n",
    "c = 8.7\n",
    "d = complex(6,6)\n",
    "# a list can have int, str, floats, comlex, list\n",
    "\n",
    "items_to_buy = ['eggs', 'apples', 'chicken', 'orange']\n",
    "# cost of items, assign cost to items in items_to_buy\n",
    "cost_of_items = [5, 6, 8]\n",
    "\n",
    "# LIST OPERATIONS\n",
    "print(\"First item in my list called items_to_buy is\", items_to_buy[0])\n",
    "print(\"the second item in my list called items_to_buy is\", items_to_buy[1])\n",
    "print(\"The items from the first to third on my list are\", items_to_buy[0:3]) # 0,1,2,3\n",
    "print(\"The items from the first to third on my list are\", items_to_buy[0], items_to_buy[1], items_to_buy[3]) # 0,1,2,3\n",
    "\n",
    "print(\"the  third and forth  item in my list are\", items_to_buy[2:4])"
   ]
  },
  {
   "cell_type": "markdown",
   "metadata": {},
   "source": [
    "#HomeWork 3"
   ]
  },
  {
   "cell_type": "code",
   "execution_count": 3,
   "metadata": {},
   "outputs": [
    {
     "ename": "NameError",
     "evalue": "name 'cost_of_eggs' is not defined",
     "output_type": "error",
     "traceback": [
      "\u001b[0;31m---------------------------------------------------------------------------\u001b[0m",
      "\u001b[0;31mNameError\u001b[0m                                 Traceback (most recent call last)",
      "Cell \u001b[0;32mIn[3], line 10\u001b[0m\n\u001b[1;32m      5\u001b[0m quantity_of_eggs \u001b[38;5;241m=\u001b[39m quantity_of_items[\u001b[38;5;241m0\u001b[39m]\n\u001b[1;32m      7\u001b[0m \u001b[38;5;66;03m# 1. Create a list called \"total_cost_of_each_item\"\u001b[39;00m\n\u001b[1;32m      8\u001b[0m \u001b[38;5;66;03m# 2. Print total total_expenditure of items\u001b[39;00m\n\u001b[0;32m---> 10\u001b[0m cost_of_egg \u001b[38;5;241m=\u001b[39m \u001b[43mcost_of_eggs\u001b[49m[\u001b[38;5;241m5\u001b[39m]\n\u001b[1;32m     11\u001b[0m quantity_of_eggs \u001b[38;5;241m=\u001b[39m quantity_of_eggs[\u001b[38;5;241m10\u001b[39m]\n\u001b[1;32m     12\u001b[0m cost_of_apples \u001b[38;5;241m=\u001b[39m cost_of_apples[\u001b[38;5;241m6\u001b[39m]\n",
      "\u001b[0;31mNameError\u001b[0m: name 'cost_of_eggs' is not defined"
     ]
    }
   ],
   "source": [
    "items_to_buy = ['eggs', 'apples', 'chicken', 'orange']\n",
    "cost_of_each_item= [5, 6, 8, 3]\n",
    "quantity_of_items = [10, 2, 1, 5]\n",
    "cost_of_each_egg = cost_of_each_item[0]\n",
    "quantity_of_eggs = quantity_of_items[0]\n",
    "\n",
    "# 1. Create a list called \"total_cost_of_each_item\"\n",
    "# 2. Print total total_expenditure of items\n",
    "\n",
    "cost_of_egg = cost_of_eggs[5]\n",
    "quantity_of_eggs = quantity_of_eggs[10]\n",
    "cost_of_apples = cost_of_apples[6]\n",
    "quantity_of_apples = quantity_of_apples[2]\n",
    "cost_of_chicken = cost_of_chicken[8]\n",
    "quantity_of_chicken = quantity_of_chicken[1]\n",
    "cost_of_orange = cost_of_orange[3]\n",
    "quantity_of_orange = quantity_of_orange[5]\n",
    "\n",
    "total_cost_of_eggs = cost_of_eggs*quantity_of_eggs\n",
    "total_cost_of_apples = cost_of_apples*quantity_of_apples\n",
    "total_cost_of_chicken = cost_of_chicken*quantity_of_chicken\n",
    "total_cost_of_orange = cost_of_orange*quantity_of_orange\n",
    "\n",
    "total_expenditure_of_items= total_cost_of_eggs + total_cost_of_apples + total_cost_of_chicken +total_cost_of_orange \n",
    "print(\"total expenditure of items\",total_expenditure_of_items)\n"
   ]
  },
  {
   "cell_type": "code",
   "execution_count": null,
   "metadata": {},
   "outputs": [],
   "source": []
  }
 ],
 "metadata": {
  "kernelspec": {
   "display_name": "kapaa",
   "language": "python",
   "name": "python3"
  },
  "language_info": {
   "codemirror_mode": {
    "name": "ipython",
    "version": 3
   },
   "file_extension": ".py",
   "mimetype": "text/x-python",
   "name": "python",
   "nbconvert_exporter": "python",
   "pygments_lexer": "ipython3",
   "version": "3.10.13"
  }
 },
 "nbformat": 4,
 "nbformat_minor": 2
}
